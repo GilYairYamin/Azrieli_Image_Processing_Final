{
 "cells": [
  {
   "cell_type": "markdown",
   "metadata": {},
   "source": [
    "All imports:"
   ]
  },
  {
   "cell_type": "code",
   "execution_count": 1,
   "metadata": {},
   "outputs": [],
   "source": [
    "import os\n",
    "import cv2\n",
    "import pandas as pd\n",
    "import numpy as np\n",
    "import matplotlib.pyplot as plt\n",
    "import matplotlib.patches as patches\n",
    "import math"
   ]
  },
  {
   "cell_type": "markdown",
   "metadata": {},
   "source": [
    "Define display function"
   ]
  },
  {
   "cell_type": "code",
   "execution_count": 2,
   "metadata": {},
   "outputs": [],
   "source": [
    "def display_image(mat_like, cmap=\"rgb\"):\n",
    "    plt.figure()\n",
    "    if cmap != \"rgb\":\n",
    "        plt.imshow(mat_like, cmap=cmap)\n",
    "    else:\n",
    "        plt.imshow(mat_like)\n",
    "    plt.show()\n",
    "    plt.close()"
   ]
  },
  {
   "cell_type": "markdown",
   "metadata": {},
   "source": [
    "load root folder and file location"
   ]
  },
  {
   "cell_type": "code",
   "execution_count": 3,
   "metadata": {},
   "outputs": [],
   "source": [
    "current_folder = os.getcwd()\n",
    "root_data_folder = os.path.join(current_folder, \"local_data\")\n",
    "random_frames_folder = os.path.join(root_data_folder, \"random_frames\")\n",
    "sequence_1_folder = os.path.join(root_data_folder, \"sequence_1\")\n",
    "sequence_2_folder = os.path.join(root_data_folder, \"sequence_2\")\n",
    "sequence_3_folder = os.path.join(root_data_folder, \"sequence_3\")\n",
    "sequence_4_folder = os.path.join(root_data_folder, \"sequence_4\")"
   ]
  },
  {
   "cell_type": "markdown",
   "metadata": {},
   "source": [
    "Clean image function"
   ]
  },
  {
   "cell_type": "code",
   "execution_count": 4,
   "metadata": {},
   "outputs": [],
   "source": [
    "dil_kernel_size = 15\n",
    "dil_kernel = cv2.getStructuringElement(\n",
    "    cv2.MORPH_ELLIPSE, (dil_kernel_size, dil_kernel_size)\n",
    ")\n",
    "\n",
    "\n",
    "def clean_image(gray, display=False):\n",
    "    gray = cv2.medianBlur(gray, 31)  # blur\n",
    "    if display:\n",
    "        display_image(gray, \"gray\")\n",
    "\n",
    "    gray = cv2.equalizeHist(gray)  # equalize\n",
    "    if display:\n",
    "        display_image(gray, \"gray\")\n",
    "\n",
    "    gray = 255 - gray  # inverse\n",
    "    if display:\n",
    "        display_image(gray, \"gray\")\n",
    "\n",
    "    clahe = cv2.createCLAHE(clipLimit=2.0, tileGridSize=(13, 13))\n",
    "    gray = clahe.apply(gray)  # clahe\n",
    "    if display:\n",
    "        display_image(gray, \"gray\")\n",
    "\n",
    "    _, gray = cv2.threshold(gray, 230, 255, cv2.THRESH_BINARY)  # threshold\n",
    "    if display:\n",
    "        display_image(gray, \"gray\")\n",
    "\n",
    "    gray = cv2.dilate(gray, dil_kernel, iterations=3)  # dilate\n",
    "    if display:\n",
    "        display_image(gray, \"gray\")\n",
    "\n",
    "    gray = cv2.erode(gray, dil_kernel, iterations=8)  # erode\n",
    "    if display:\n",
    "        display_image(gray, \"gray\")\n",
    "\n",
    "    gray = cv2.dilate(gray, dil_kernel, iterations=7)\n",
    "    if display:\n",
    "        display_image(gray, \"gray\")\n",
    "\n",
    "    return gray"
   ]
  },
  {
   "cell_type": "markdown",
   "metadata": {},
   "source": [
    "find circles function"
   ]
  },
  {
   "cell_type": "code",
   "execution_count": 5,
   "metadata": {},
   "outputs": [],
   "source": [
    "def get_circles_from_gray(gray, color=None):\n",
    "    gray = clean_image(gray)\n",
    "    # display_image(gray, \"gray\")\n",
    "    circles = cv2.HoughCircles(\n",
    "        gray,\n",
    "        cv2.HOUGH_GRADIENT,\n",
    "        dp=1,  # down sample size\n",
    "        minDist=500,  # minimum distance between detected circles\n",
    "        param1=10,\n",
    "        param2=14,\n",
    "        minRadius=50,\n",
    "        maxRadius=100,\n",
    "    )\n",
    "\n",
    "    if circles is None:\n",
    "        print(\"no matches\")\n",
    "        return []\n",
    "\n",
    "    color_img_cpy = np.copy(color)\n",
    "    circles = np.uint(np.around(circles))\n",
    "    circles = circles[0, :]\n",
    "\n",
    "    if color is None:\n",
    "        return circles\n",
    "\n",
    "    for circle in circles:\n",
    "        x, y, r = circle[0], circle[1], circle[2]\n",
    "        cv2.circle(color_img_cpy, (x, y), r, (255, 255, 255), 15)\n",
    "    # display_image(color_img_cpy)\n",
    "    return circles\n",
    "\n",
    "\n",
    "def merge_circle_arr(res, add):\n",
    "    for circle_n in add:\n",
    "        x_new, y_new, r_new = circle_n[0], circle_n[1], circle_n[2]\n",
    "        for circle_o in res:\n",
    "            x_old, y_old, r_old = circle_o[0], circle_o[1], circle_o[2]\n",
    "            if math.dist((x_new, y_new), (x_old, y_old)) < 50:\n",
    "                x_new = (x_new + x_old) / 2\n",
    "                y_new = (y_new + y_old) / 2\n",
    "                r_new = max(r_new, r_old)\n",
    "                circle_o[0], circle_o[1], circle_o[2] = x_new, y_new, r_new\n",
    "                r_new = -1\n",
    "                break\n",
    "\n",
    "        if r_new > 0:\n",
    "            res.append(circle_n)\n",
    "\n",
    "\n",
    "def find_colored_circles(color, display=False):\n",
    "    r, g, b = cv2.split(color)\n",
    "\n",
    "    r_circles = get_circles_from_gray(r, color)\n",
    "    g_circles = get_circles_from_gray(g, color)\n",
    "    b_circles = get_circles_from_gray(b, color)\n",
    "\n",
    "    result = []\n",
    "    merge_circle_arr(result, r_circles)\n",
    "    merge_circle_arr(result, g_circles)\n",
    "    merge_circle_arr(result, b_circles)\n",
    "\n",
    "    if not display:\n",
    "        return result\n",
    "\n",
    "    img_copy = np.copy(color)\n",
    "    for circle in result:\n",
    "        x, y, r = circle[0], circle[1], circle[2]\n",
    "        cv2.circle(img_copy, (x, y), r, (255, 255, 255), 15)\n",
    "\n",
    "    display_image(img_copy)\n",
    "    return result"
   ]
  },
  {
   "cell_type": "markdown",
   "metadata": {},
   "source": [
    "load one image for testing"
   ]
  },
  {
   "cell_type": "code",
   "execution_count": 8,
   "metadata": {},
   "outputs": [
    {
     "data": {
      "text/plain": [
       "[[np.uint64(1328), np.uint64(993), array([ 90, 110,  74], dtype=uint64)],\n",
       " [np.uint64(444), np.uint64(868), array([64, 76, 77], dtype=uint64)],\n",
       " [np.uint64(1184), np.uint64(109), array([66, 76, 78], dtype=uint64)],\n",
       " [np.uint64(828), np.uint64(483), array([ 70,  94, 121], dtype=uint64)],\n",
       " [np.uint64(1718), np.uint64(612), array([117,  78,  60], dtype=uint64)]]"
      ]
     },
     "execution_count": 8,
     "metadata": {},
     "output_type": "execute_result"
    }
   ],
   "source": [
    "def explore_one_image(img_path):\n",
    "    rnd_img = cv2.imread(img_path)\n",
    "    color_rgb = cv2.cvtColor(rnd_img, cv2.COLOR_BGR2RGB)\n",
    "    circles = find_colored_circles(color_rgb)\n",
    "    \n",
    "    result = []\n",
    "    for circle in circles:\n",
    "        x, y, r = circle[0], circle[1], circle[2]\n",
    "        mask = np.zeros(color_rgb.shape[:2], dtype=np.uint8)\n",
    "        cv2.circle(mask, (x, y), r // 2, 255, thickness=-1)\n",
    "        mean_color = cv2.mean(color_rgb, mask=mask)\n",
    "        mean_color = np.uint(np.around(mean_color))[:3]\n",
    "        result.append([x, y, mean_color])\n",
    "        \n",
    "    return result\n",
    "\n",
    "img_path = os.path.join(sequence_4_folder, \"seq_000.jpg\")\n",
    "\n",
    "explore_one_image(img_path)"
   ]
  },
  {
   "cell_type": "markdown",
   "metadata": {},
   "source": [
    "Now starting part 2 of the exercise!"
   ]
  },
  {
   "cell_type": "code",
   "execution_count": null,
   "metadata": {},
   "outputs": [],
   "source": [
    "def analyze_sequence(folder, file_name_start):\n",
    "    result = pd.DataFrame()\n",
    "    result[\"\"]"
   ]
  }
 ],
 "metadata": {
  "kernelspec": {
   "display_name": ".venv",
   "language": "python",
   "name": "python3"
  },
  "language_info": {
   "codemirror_mode": {
    "name": "ipython",
    "version": 3
   },
   "file_extension": ".py",
   "mimetype": "text/x-python",
   "name": "python",
   "nbconvert_exporter": "python",
   "pygments_lexer": "ipython3",
   "version": "3.12.4"
  }
 },
 "nbformat": 4,
 "nbformat_minor": 2
}
