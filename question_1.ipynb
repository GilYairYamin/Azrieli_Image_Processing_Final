{
 "cells": [
  {
   "cell_type": "markdown",
   "metadata": {},
   "source": [
    "All imports:"
   ]
  },
  {
   "cell_type": "code",
   "execution_count": null,
   "metadata": {},
   "outputs": [],
   "source": [
    "import os\n",
    "import cv2\n",
    "import pandas as pd\n",
    "import numpy as np\n",
    "import matplotlib.pyplot as plt"
   ]
  },
  {
   "cell_type": "markdown",
   "metadata": {},
   "source": [
    "Define display function"
   ]
  },
  {
   "cell_type": "code",
   "execution_count": 115,
   "metadata": {},
   "outputs": [],
   "source": [
    "def display_image(mat_like, cmap=\"rgb\"):\n",
    "    plt.figure()\n",
    "    if cmap != \"rgb\":\n",
    "        plt.imshow(mat_like, cmap=cmap)\n",
    "    else:\n",
    "        plt.imshow(mat_like)\n",
    "    plt.show()\n",
    "    plt.close()"
   ]
  },
  {
   "cell_type": "markdown",
   "metadata": {},
   "source": [
    "load root folder and file location"
   ]
  },
  {
   "cell_type": "code",
   "execution_count": 116,
   "metadata": {},
   "outputs": [],
   "source": [
    "current_folder = os.getcwd()\n",
    "root_data_folder = os.path.join(current_folder, \"local_data\")\n",
    "random_frames_folder = os.path.join(root_data_folder, \"random_frames\")\n",
    "sequence_1_folder = os.path.join(root_data_folder, \"sequence_1\")\n",
    "sequence_2_folder = os.path.join(root_data_folder, \"sequence_2\")\n",
    "sequence_3_folder = os.path.join(root_data_folder, \"sequence_3\")\n",
    "sequence_4_folder = os.path.join(root_data_folder, \"sequence_4\")"
   ]
  },
  {
   "cell_type": "markdown",
   "metadata": {},
   "source": [
    "Clean image function"
   ]
  },
  {
   "cell_type": "code",
   "execution_count": 117,
   "metadata": {},
   "outputs": [],
   "source": [
    "dil_kernel_size = 15\n",
    "dil_kernel = cv2.getStructuringElement(\n",
    "    cv2.MORPH_ELLIPSE, (dil_kernel_size, dil_kernel_size)\n",
    ")\n",
    "\n",
    "\n",
    "def clean_image(gray, display=False):\n",
    "    gray = cv2.medianBlur(gray, 31)  # blur\n",
    "    if display:\n",
    "        display_image(gray, \"gray\")\n",
    "\n",
    "    gray = cv2.equalizeHist(gray)  # equalize\n",
    "    if display:\n",
    "        display_image(gray, \"gray\")\n",
    "\n",
    "    gray = 255 - gray  # inverse\n",
    "    if display:\n",
    "        display_image(gray, \"gray\")\n",
    "\n",
    "    clahe = cv2.createCLAHE(clipLimit=2.0, tileGridSize=(13, 13))\n",
    "    gray = clahe.apply(gray)  # clahe\n",
    "    if display:\n",
    "        display_image(gray, \"gray\")\n",
    "\n",
    "    _, gray = cv2.threshold(gray, 230, 255, cv2.THRESH_BINARY)  # threshold\n",
    "    if display:\n",
    "        display_image(gray, \"gray\")\n",
    "\n",
    "    gray = cv2.dilate(gray, dil_kernel, iterations=3)  # dilate\n",
    "    if display:\n",
    "        display_image(gray, \"gray\")\n",
    "\n",
    "    gray = cv2.erode(gray, dil_kernel, iterations=8)  # erode\n",
    "    if display:\n",
    "        display_image(gray, \"gray\")\n",
    "\n",
    "    gray = cv2.dilate(gray, dil_kernel, iterations=6)\n",
    "    if display:\n",
    "        display_image(gray, \"gray\")\n",
    "\n",
    "    return gray"
   ]
  },
  {
   "cell_type": "markdown",
   "metadata": {},
   "source": [
    "find circles function"
   ]
  },
  {
   "cell_type": "code",
   "execution_count": 118,
   "metadata": {},
   "outputs": [],
   "source": [
    "def get_circles_from_gray(gray, color=None):\n",
    "    gray = clean_image(gray)\n",
    "    # display_image(gray, \"gray\")\n",
    "    circles = cv2.HoughCircles(\n",
    "        gray,\n",
    "        cv2.HOUGH_GRADIENT,\n",
    "        dp=1,  # down sample size\n",
    "        minDist=400,  # minimum distance between detected circles\n",
    "        param1=9,\n",
    "        param2=13,\n",
    "        minRadius=50,\n",
    "        maxRadius=100,\n",
    "    )\n",
    "\n",
    "    if circles is None:\n",
    "        print(\"no matches\")\n",
    "        return []\n",
    "\n",
    "    color_img_cpy = np.copy(color)\n",
    "    circles = np.uint(np.around(circles))\n",
    "    circles = circles[0, :]\n",
    "\n",
    "    if color is None:\n",
    "        return circles\n",
    "\n",
    "    for circle in circles:\n",
    "        x, y, r = circle[0], circle[1], circle[2]\n",
    "        cv2.circle(color_img_cpy, (x, y), r, (255, 255, 255), 15)\n",
    "    # display_image(color_img_cpy)\n",
    "    return circles\n",
    "\n",
    "\n",
    "def merge_circle_arr(res, add):\n",
    "    for circle_new in add:\n",
    "        x_new, y_new, r_new = circle_new[0], circle_new[1], circle_new[2]\n",
    "        for old_circle_dict in res:\n",
    "            x_old = old_circle_dict[\"x\"]\n",
    "            y_old = old_circle_dict[\"y\"]\n",
    "            r_old = old_circle_dict[\"radius\"]\n",
    "            \n",
    "            p1 = np.array([x_new, y_new], dtype=np.int64)\n",
    "            p2 = np.array([x_old, y_old], dtype=np.int64)\n",
    "            values = p1 - p2\n",
    "            distance = np.linalg.norm(values)\n",
    "            if distance < 100:\n",
    "                x_new = (x_new + x_old) // 2\n",
    "                y_new = (y_new + y_old) // 2\n",
    "                r_new = np.max(np.array([r_new, r_old]))\n",
    "                \n",
    "                old_circle_dict[\"x\"] = x_new\n",
    "                old_circle_dict[\"y\"] = y_new\n",
    "                old_circle_dict[\"radius\"] = r_new\n",
    "                r_new = -1\n",
    "                break\n",
    "\n",
    "        if r_new > 0:\n",
    "            circle_dict = {}\n",
    "            circle_dict[\"x\"] = x_new\n",
    "            circle_dict[\"y\"] = y_new\n",
    "            circle_dict[\"radius\"] = r_new\n",
    "            res.append(circle_dict)\n",
    "\n",
    "\n",
    "def get_colored_circles(color, display=False):\n",
    "    r, g, b = cv2.split(color)\n",
    "\n",
    "    r_circles = get_circles_from_gray(r, color)\n",
    "    g_circles = get_circles_from_gray(g, color)\n",
    "    b_circles = get_circles_from_gray(b, color)\n",
    "\n",
    "    result = []\n",
    "    merge_circle_arr(result, r_circles)\n",
    "    merge_circle_arr(result, g_circles)\n",
    "    merge_circle_arr(result, b_circles)\n",
    "\n",
    "    if not display:\n",
    "        return result\n",
    "\n",
    "    img_copy = np.copy(color)\n",
    "    for circle in result:\n",
    "        x, y, r = circle[\"x\"], circle[\"y\"], circle[\"radius\"]\n",
    "        cv2.circle(img_copy, (x, y), r, (255, 255, 255), 15)\n",
    "\n",
    "    display_image(img_copy)\n",
    "    return result"
   ]
  },
  {
   "cell_type": "markdown",
   "metadata": {},
   "source": [
    "load one image for testing"
   ]
  },
  {
   "cell_type": "code",
   "execution_count": 119,
   "metadata": {},
   "outputs": [
    {
     "name": "stdout",
     "output_type": "stream",
     "text": [
      "[{'x': np.uint64(444), 'y': np.uint64(873), 'radius': np.uint64(86), 'color': 'gray'}, {'x': np.uint64(1187), 'y': np.uint64(106), 'radius': np.uint64(76), 'color': 'gray'}, {'x': np.uint64(1327), 'y': np.uint64(982), 'radius': np.uint64(83), 'color': 'green'}, {'x': np.uint64(810), 'y': np.uint64(488), 'radius': np.uint64(75), 'color': 'blue'}, {'x': np.uint64(1718), 'y': np.uint64(600), 'radius': np.uint64(90), 'color': 'red'}]\n"
     ]
    }
   ],
   "source": [
    "orange = np.array([123, 85, 66], dtype=np.int64)\n",
    "light_blue = np.array([60, 76, 101], dtype=np.int64)\n",
    "gray = np.array([60, 70, 70], dtype=np.int64)\n",
    "green = np.array([93, 111, 70], dtype=np.int64)\n",
    "color_values = [\n",
    "    orange, light_blue, gray, green\n",
    "]\n",
    "color_names = [\n",
    "    \"red\", \"blue\", \"gray\", \"green\"\n",
    "]\n",
    "\n",
    "def get_color_name(color):\n",
    "    color_int = np.array(color, dtype=np.int64)\n",
    "    min_distance =  np.linalg.norm(color_int - color[0])\n",
    "    min_color_idx = 0\n",
    "    \n",
    "    for i in range(len(color_values)):\n",
    "        distance = np.linalg.norm(color - color_values[i])\n",
    "        if distance < min_distance:\n",
    "            min_color_idx = i\n",
    "            min_distance = distance\n",
    "    \n",
    "    return color_names[min_color_idx]\n",
    "    \n",
    "\n",
    "def detect_colored_circles(img_path):\n",
    "    rnd_img = cv2.imread(img_path)\n",
    "    color_rgb = cv2.cvtColor(rnd_img, cv2.COLOR_BGR2RGB)\n",
    "    circles = get_colored_circles(color_rgb)\n",
    "    \n",
    "    for circle in circles:\n",
    "        x, y, r = circle[\"x\"], circle[\"y\"], circle[\"radius\"]\n",
    "        mask = np.zeros(color_rgb.shape[:2], dtype=np.uint8)\n",
    "        cv2.circle(mask, (x, y), r // 2, 255, thickness=-1)\n",
    "        mean_color = cv2.mean(color_rgb, mask=mask)\n",
    "        mean_color = np.int64(np.around(mean_color))[:3]\n",
    "        circle[\"color\"] = get_color_name(mean_color)\n",
    "        \n",
    "    return circles\n",
    "\n",
    "img_path = os.path.join(sequence_4_folder, \"seq_000.jpg\")\n",
    "\n",
    "print(detect_colored_circles(img_path))"
   ]
  },
  {
   "cell_type": "markdown",
   "metadata": {},
   "source": [
    "Now starting part 2 of the exercise!"
   ]
  },
  {
   "cell_type": "code",
   "execution_count": 120,
   "metadata": {},
   "outputs": [
    {
     "name": "stdout",
     "output_type": "stream",
     "text": [
      "[{'image_id': 1, 'circle_id': 0, 'x': np.uint64(508), 'y': np.uint64(455), 'radius': np.uint64(95), 'color': 'blue'}, {'image_id': 1, 'circle_id': 0, 'x': np.uint64(87), 'y': np.uint64(863), 'radius': np.uint64(92), 'color': 'gray'}, {'image_id': 1, 'circle_id': 0, 'x': np.uint64(1040), 'y': np.uint64(1018), 'radius': np.uint64(75), 'color': 'red'}, {'image_id': 1, 'circle_id': 0, 'x': np.uint64(1476), 'y': np.uint64(615), 'radius': np.uint64(96), 'color': 'red'}, {'image_id': 2, 'circle_id': 0, 'x': np.uint64(505), 'y': np.uint64(457), 'radius': np.uint64(96), 'color': 'blue'}, {'image_id': 2, 'circle_id': 0, 'x': np.uint64(93), 'y': np.uint64(861), 'radius': np.uint64(93), 'color': 'gray'}, {'image_id': 2, 'circle_id': 0, 'x': np.uint64(1044), 'y': np.uint64(1014), 'radius': np.uint64(84), 'color': 'red'}, {'image_id': 2, 'circle_id': 0, 'x': np.uint64(1470), 'y': np.uint64(607), 'radius': np.uint64(85), 'color': 'red'}, {'image_id': 3, 'circle_id': 0, 'x': np.uint64(88), 'y': np.uint64(860), 'radius': np.uint64(90), 'color': 'gray'}, {'image_id': 3, 'circle_id': 0, 'x': np.uint64(505), 'y': np.uint64(457), 'radius': np.uint64(96), 'color': 'blue'}, {'image_id': 3, 'circle_id': 0, 'x': np.uint64(1042), 'y': np.uint64(1020), 'radius': np.uint64(81), 'color': 'red'}, {'image_id': 3, 'circle_id': 0, 'x': np.uint64(1466), 'y': np.uint64(609), 'radius': np.uint64(75), 'color': 'red'}, {'image_id': 4, 'circle_id': 0, 'x': np.uint64(87), 'y': np.uint64(868), 'radius': np.uint64(95), 'color': 'gray'}, {'image_id': 4, 'circle_id': 0, 'x': np.uint64(506), 'y': np.uint64(442), 'radius': np.uint64(75), 'color': 'blue'}, {'image_id': 4, 'circle_id': 0, 'x': np.uint64(1471), 'y': np.uint64(608), 'radius': np.uint64(87), 'color': 'red'}, {'image_id': 4, 'circle_id': 0, 'x': np.uint64(1046), 'y': np.uint64(1018), 'radius': np.uint64(86), 'color': 'red'}, {'image_id': 5, 'circle_id': 0, 'x': np.uint64(510), 'y': np.uint64(454), 'radius': np.uint64(93), 'color': 'blue'}, {'image_id': 5, 'circle_id': 0, 'x': np.uint64(90), 'y': np.uint64(860), 'radius': np.uint64(88), 'color': 'gray'}, {'image_id': 5, 'circle_id': 0, 'x': np.uint64(1474), 'y': np.uint64(608), 'radius': np.uint64(86), 'color': 'red'}, {'image_id': 5, 'circle_id': 0, 'x': np.uint64(1042), 'y': np.uint64(1014), 'radius': np.uint64(80), 'color': 'red'}, {'image_id': 6, 'circle_id': 0, 'x': np.uint64(507), 'y': np.uint64(446), 'radius': np.uint64(74), 'color': 'blue'}, {'image_id': 6, 'circle_id': 0, 'x': np.uint64(89), 'y': np.uint64(867), 'radius': np.uint64(95), 'color': 'gray'}, {'image_id': 6, 'circle_id': 0, 'x': np.uint64(1046), 'y': np.uint64(1032), 'radius': np.uint64(65), 'color': 'green'}, {'image_id': 6, 'circle_id': 0, 'x': np.uint64(1471), 'y': np.uint64(609), 'radius': np.uint64(85), 'color': 'red'}, {'image_id': 7, 'circle_id': 0, 'x': np.uint64(507), 'y': np.uint64(450), 'radius': np.uint64(76), 'color': 'blue'}, {'image_id': 7, 'circle_id': 0, 'x': np.uint64(93), 'y': np.uint64(864), 'radius': np.uint64(86), 'color': 'gray'}, {'image_id': 7, 'circle_id': 0, 'x': np.uint64(1038), 'y': np.uint64(1015), 'radius': np.uint64(86), 'color': 'red'}, {'image_id': 7, 'circle_id': 0, 'x': np.uint64(1468), 'y': np.uint64(612), 'radius': np.uint64(77), 'color': 'red'}, {'image_id': 8, 'circle_id': 0, 'x': np.uint64(90), 'y': np.uint64(868), 'radius': np.uint64(95), 'color': 'gray'}, {'image_id': 8, 'circle_id': 0, 'x': np.uint64(503), 'y': np.uint64(449), 'radius': np.uint64(75), 'color': 'blue'}, {'image_id': 8, 'circle_id': 0, 'x': np.uint64(1475), 'y': np.uint64(610), 'radius': np.uint64(86), 'color': 'red'}, {'image_id': 8, 'circle_id': 0, 'x': np.uint64(1040), 'y': np.uint64(1008), 'radius': np.uint64(85), 'color': 'red'}, {'image_id': 9, 'circle_id': 0, 'x': np.uint64(86), 'y': np.uint64(858), 'radius': np.uint64(89), 'color': 'gray'}, {'image_id': 9, 'circle_id': 0, 'x': np.uint64(508), 'y': np.uint64(454), 'radius': np.uint64(87), 'color': 'blue'}, {'image_id': 9, 'circle_id': 0, 'x': np.uint64(1040), 'y': np.uint64(1024), 'radius': np.uint64(83), 'color': 'green'}, {'image_id': 9, 'circle_id': 0, 'x': np.uint64(1475), 'y': np.uint64(609), 'radius': np.uint64(87), 'color': 'red'}, {'image_id': 10, 'circle_id': 0, 'x': np.uint64(498), 'y': np.uint64(452), 'radius': np.uint64(77), 'color': 'blue'}, {'image_id': 10, 'circle_id': 0, 'x': np.uint64(93), 'y': np.uint64(865), 'radius': np.uint64(89), 'color': 'gray'}, {'image_id': 10, 'circle_id': 0, 'x': np.uint64(1032), 'y': np.uint64(1024), 'radius': np.uint64(56), 'color': 'green'}, {'image_id': 10, 'circle_id': 0, 'x': np.uint64(1472), 'y': np.uint64(611), 'radius': np.uint64(86), 'color': 'red'}]\n"
     ]
    }
   ],
   "source": [
    "def track_circles_over_time(img_paths):\n",
    "    circles_from_images = []\n",
    "    for img_path in img_paths:\n",
    "        circles_from_images.append(detect_colored_circles(img_path))\n",
    "    \n",
    "    result = []\n",
    "    for idx in range(len(circles_from_images)):\n",
    "        circles = circles_from_images[idx]\n",
    "        circle_id = len(result)\n",
    "        for circle in circles:\n",
    "            x_new = circle[\"x\"]\n",
    "            y_new = circle[\"y\"]\n",
    "            \n",
    "            for res in result:\n",
    "                x_old = res[\"x\"]\n",
    "                y_old = res[\"y\"]\n",
    "                \n",
    "                p1 = np.array([x_new, y_new], dtype=np.int64)\n",
    "                p2 = np.array([x_old, y_old], dtype=np.int64)\n",
    "                values = p1 - p2\n",
    "                distance = np.linalg.norm(values)\n",
    "                if distance < 100:\n",
    "                    circle_id = res[\"circle_id\"]\n",
    "                    break\n",
    "\n",
    "            new_res = {}\n",
    "            new_res[\"image_id\"] = idx + 1\n",
    "            new_res[\"circle_id\"] = circle_id\n",
    "            new_res[\"x\"] = circle[\"x\"]\n",
    "            new_res[\"y\"] = circle[\"y\"]\n",
    "            new_res[\"radius\"] = circle[\"radius\"]\n",
    "            new_res[\"color\"] = circle[\"color\"]\n",
    "            result.append(new_res)\n",
    "    \n",
    "    return result\n",
    "        \n",
    "        \n",
    "img_lst = os.listdir(sequence_2_folder)\n",
    "img_paths = [os.path.join(sequence_1_folder, img_fn) for img_fn in img_lst]\n",
    "print(track_circles_over_time(img_paths))"
   ]
  }
 ],
 "metadata": {
  "kernelspec": {
   "display_name": ".venv",
   "language": "python",
   "name": "python3"
  },
  "language_info": {
   "codemirror_mode": {
    "name": "ipython",
    "version": 3
   },
   "file_extension": ".py",
   "mimetype": "text/x-python",
   "name": "python",
   "nbconvert_exporter": "python",
   "pygments_lexer": "ipython3",
   "version": "3.13.2"
  }
 },
 "nbformat": 4,
 "nbformat_minor": 2
}
